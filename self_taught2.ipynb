{
 "cells": [
  {
   "cell_type": "code",
   "execution_count": 1,
   "metadata": {},
   "outputs": [
    {
     "data": {
      "text/plain": [
       "14"
      ]
     },
     "execution_count": 1,
     "metadata": {},
     "output_type": "execute_result"
    }
   ],
   "source": [
    "#procedure-oriented\n",
    "x = 2\n",
    "y = 4\n",
    "z = 8\n",
    "xyz = x + y + z\n",
    "xyz"
   ]
  },
  {
   "cell_type": "code",
   "execution_count": 8,
   "metadata": {},
   "outputs": [
    {
     "name": "stdout",
     "output_type": "stream",
     "text": [
      "Who is your favorite author?george\n",
      "Who is your favorite author?q\n",
      "['george', 'q']\n"
     ]
    }
   ],
   "source": [
    "#procedure oriented\n",
    "authors = []\n",
    "\n",
    "def collect_authors():\n",
    "  answer = None\n",
    "  while answer != \"q\":\n",
    "      answer = input(\"Who is your favorite author?\")\n",
    "      authors.append(answer)\n",
    "collect_authors()   \n",
    "print(authors)"
   ]
  },
  {
   "cell_type": "code",
   "execution_count": 7,
   "metadata": {},
   "outputs": [
    {
     "name": "stdout",
     "output_type": "stream",
     "text": [
      "1\n"
     ]
    }
   ],
   "source": [
    "a = 0\n",
    "\n",
    "def increment():\n",
    "    global a\n",
    "    a += 1\n",
    "    print(a)\n",
    "increment()"
   ]
  },
  {
   "cell_type": "code",
   "execution_count": null,
   "metadata": {},
   "outputs": [],
   "source": [
    "\n",
    "def increment(a):\n",
    "    return a + 1"
   ]
  },
  {
   "cell_type": "code",
   "execution_count": null,
   "metadata": {},
   "outputs": [],
   "source": [
    "\n",
    "class Rectangle():\n",
    "    def __init__(self, w, l):\n",
    "        self.width = w\n",
    "        self.len = l\n",
    "\n",
    "\n",
    "    def area(self):\n",
    "        return self.width * self.len"
   ]
  },
  {
   "cell_type": "code",
   "execution_count": null,
   "metadata": {},
   "outputs": [],
   "source": [
    "\n",
    "class Data:\n",
    "    def __init__(self):\n",
    "        self.nums = [1, 2, 3, 4, 5]\n",
    "\n",
    "    def change_data(self, index, n):\n",
    "        self.nums[index] = n"
   ]
  },
  {
   "cell_type": "code",
   "execution_count": null,
   "metadata": {},
   "outputs": [],
   "source": [
    "class Data:\n",
    "    def __init__(self):\n",
    "        self.nums = [1, 2, 3, 4, 5]\n",
    "\n",
    "    def change_data(self, index, n):\n",
    "        self.nums[index] = n\n",
    "\n",
    "data_one = Data()\n",
    "data_one.nums[0] = 100\n",
    "print(data_one.nums)\n",
    "\n",
    "data_two = Data()\n",
    "data_two.change_data(0, 100)\n",
    "print(data_two.nums)"
   ]
  },
  {
   "cell_type": "code",
   "execution_count": null,
   "metadata": {},
   "outputs": [],
   "source": [
    "class PublicPrivateExample:\n",
    "    def __init__(self):\n",
    "        self.public = \"safe\"\n",
    "        self._unsafe = \"unsafe\"\n",
    "\n",
    "\n",
    "    def public_method(self):\n",
    "        # clients can use this\n",
    "        pass\n",
    "\n",
    "\n",
    "    def _unsafe_method(self):\n",
    "        # clients shouldn't use this\n",
    "        pass"
   ]
  },
  {
   "cell_type": "code",
   "execution_count": null,
   "metadata": {},
   "outputs": [],
   "source": [
    "type(\"Hello, World!\")\n",
    "type(200)\n",
    "type(200.1)"
   ]
  },
  {
   "cell_type": "code",
   "execution_count": null,
   "metadata": {},
   "outputs": [],
   "source": [
    "class Shape():\n",
    "    def __init__(self, w, l):\n",
    "        self.width = w\n",
    "        self.len = l\n",
    "\n",
    "    def print_size(self):\n",
    "        print(\"\"\"{} by {}\n",
    "              \"\"\".format(self.width,\n",
    "                         self.len))\n",
    "\n",
    "\n",
    "class Square(Shape):\n",
    "    def area(self):\n",
    "        return self.width * self.len\n",
    "\n",
    "a_square = Square(20, 20)\n",
    "print(a_square.area())"
   ]
  },
  {
   "cell_type": "code",
   "execution_count": 16,
   "metadata": {},
   "outputs": [
    {
     "name": "stdout",
     "output_type": "stream",
     "text": [
      "I am 20 by 20\n",
      "            \n"
     ]
    }
   ],
   "source": [
    "class Shape():\n",
    "    def __init__(self, w, l):\n",
    "        self.width = w\n",
    "        self.len = l\n",
    "\n",
    "    def print_size(self):\n",
    "        print(\"\"\"{} by {}\n",
    "              \"\"\".format(self.width,\n",
    "                         self.len))\n",
    "\n",
    "\n",
    "class Square(Shape):\n",
    "    def area(self):\n",
    "        return self.width * self.len\n",
    "\n",
    "    def print_size(self):\n",
    "      print(\"\"\"I am {} by {}\n",
    "            \"\"\".format(self.width,\n",
    "                       self.len))\n",
    "\n",
    "a_square = Square(20, 20)\n",
    "a_square.print_size()"
   ]
  },
  {
   "cell_type": "code",
   "execution_count": 17,
   "metadata": {},
   "outputs": [],
   "source": [
    "class Shape():\n",
    "    def __init__(self, w, l):\n",
    "        self.width = w\n",
    "        self.len = l\n",
    "\n",
    "    def print_size(self):\n",
    "        print(\"\"\"{} by {}\"\"\".format(self.width, self.len))\n",
    "\n",
    "class Square(Shape):\n",
    "    pass"
   ]
  },
  {
   "cell_type": "code",
   "execution_count": 19,
   "metadata": {},
   "outputs": [],
   "source": [
    "shapes = ['tr1', 'sq1', 'cr1']\n",
    "for a_shape in shapes:\n",
    "    if type(a_shape) == \"Triangle\":\n",
    "        a_shape.draw_triangle()\n",
    "    if type(a_shape) == \"Square\":\n",
    "        a_shape.draw_square()\n",
    "    if type(a_shape) == \"Circle\":\n",
    "         a_shape.draw_circle()"
   ]
  },
  {
   "cell_type": "code",
   "execution_count": 22,
   "metadata": {},
   "outputs": [
    {
     "ename": "NameError",
     "evalue": "name 'tr1' is not defined",
     "output_type": "error",
     "traceback": [
      "\u001b[0;31m---------------------------------------------------------------------------\u001b[0m",
      "\u001b[0;31mNameError\u001b[0m                                 Traceback (most recent call last)",
      "\u001b[0;32m<ipython-input-22-5686e97303bb>\u001b[0m in \u001b[0;36m<module>\u001b[0;34m\u001b[0m\n\u001b[0;32m----> 1\u001b[0;31m \u001b[0mshapes\u001b[0m \u001b[0;34m=\u001b[0m \u001b[0;34m[\u001b[0m\u001b[0mtr1\u001b[0m\u001b[0;34m,\u001b[0m \u001b[0msw1\u001b[0m\u001b[0;34m,\u001b[0m \u001b[0mcr1\u001b[0m\u001b[0;34m]\u001b[0m\u001b[0;34m\u001b[0m\u001b[0;34m\u001b[0m\u001b[0m\n\u001b[0m\u001b[1;32m      2\u001b[0m \u001b[0;34m\u001b[0m\u001b[0m\n\u001b[1;32m      3\u001b[0m \u001b[0;32mfor\u001b[0m \u001b[0ma_shape\u001b[0m \u001b[0;32min\u001b[0m \u001b[0mshapes\u001b[0m\u001b[0;34m:\u001b[0m\u001b[0;34m\u001b[0m\u001b[0;34m\u001b[0m\u001b[0m\n\u001b[1;32m      4\u001b[0m     \u001b[0ma_shape\u001b[0m\u001b[0;34m.\u001b[0m\u001b[0mdraw\u001b[0m\u001b[0;34m(\u001b[0m\u001b[0;34m)\u001b[0m\u001b[0;34m\u001b[0m\u001b[0;34m\u001b[0m\u001b[0m\n",
      "\u001b[0;31mNameError\u001b[0m: name 'tr1' is not defined"
     ]
    }
   ],
   "source": [
    "shapes = [tr1, sw1, cr1]\n",
    "\n",
    "for a_shape in shapes:\n",
    "    a_shape.draw()"
   ]
  },
  {
   "cell_type": "code",
   "execution_count": null,
   "metadata": {},
   "outputs": [],
   "source": [
    "print(\"Hello, World!\")\n",
    "print(200)\n",
    "print(200.1)"
   ]
  },
  {
   "cell_type": "code",
   "execution_count": 12,
   "metadata": {},
   "outputs": [
    {
     "name": "stdout",
     "output_type": "stream",
     "text": [
      "100\n",
      "150\n"
     ]
    }
   ],
   "source": [
    "class Rectangle():\n",
    "    def __init__(self, w, l):\n",
    "        self.width = w\n",
    "        self.len = l\n",
    "    def area(self):\n",
    "        return self.width * self.len\n",
    "class Square():\n",
    "    def __init__(self,l):\n",
    "        self.len=l\n",
    "    def area(self):\n",
    "        return self.len*self.len\n",
    "square=Square(10)\n",
    "rectangle=Rectangle(10,15)\n",
    "print(square.area())\n",
    "print(rectangle.area())"
   ]
  },
  {
   "cell_type": "code",
   "execution_count": 13,
   "metadata": {},
   "outputs": [
    {
     "name": "stdout",
     "output_type": "stream",
     "text": [
      "40\n",
      "50\n"
     ]
    }
   ],
   "source": [
    "class Rectangle():\n",
    "    def __init__(self, w, l):\n",
    "        self.width = w\n",
    "        self.len = l\n",
    "    def calculate_perimeter(self):\n",
    "        return (2*(self.width + self.len))\n",
    "class Square():\n",
    "    def __init__(self,l):\n",
    "        self.len=l\n",
    "    def calculate_perimeter(self):\n",
    "        return 4*self.len\n",
    "square=Square(10)\n",
    "rectangle=Rectangle(10,15)\n",
    "print(square.calculate_perimeter())\n",
    "print(rectangle.calculate_perimeter())"
   ]
  },
  {
   "cell_type": "code",
   "execution_count": 15,
   "metadata": {},
   "outputs": [],
   "source": [
    "class Square():\n",
    "    def __init__(self,s1):\n",
    "        self.s1 = s1\n",
    "    def calculate_perimeter(self):\n",
    "        return self.s1*4\n",
    "    def change_size(self,new_size):\n",
    "        self.s1+=new_size"
   ]
  },
  {
   "cell_type": "code",
   "execution_count": 37,
   "metadata": {
    "scrolled": true
   },
   "outputs": [
    {
     "name": "stdout",
     "output_type": "stream",
     "text": [
      "I am a shape\n",
      "None\n",
      "400\n",
      "I am a shape\n",
      "None\n",
      "500\n"
     ]
    }
   ],
   "source": [
    "#Create a class called Shape. \n",
    "#Define a method in it called what_am_i that prints \"I am a shape\" when called.\n",
    "#Change your Square and Rectangle classes from the previous challenges to inherit from Shape, \n",
    "#create Square and Rectangle objects, and call the new method on both of them.\n",
    "class Shape():\n",
    "    def __init__(self, w, l):\n",
    "        self.width = w\n",
    "        self.len = l\n",
    "    def what_am_i():\n",
    "        print(\"I am a shape\")\n",
    "    \n",
    "class Square(Shape):\n",
    "    def area(self):\n",
    "        return self.width * self.len\n",
    "    \n",
    "class Rectangle(Shape):\n",
    "    def area(self):\n",
    "        return self.width * self.len\n",
    "\n",
    "square = Square(20, 20)\n",
    "rectangle=Rectangle(20,25)\n",
    "print(Square.what_am_i())\n",
    "print(square.area())\n",
    "print(Rectangle.what_am_i())\n",
    "print(rectangle.area())"
   ]
  },
  {
   "cell_type": "code",
   "execution_count": 38,
   "metadata": {},
   "outputs": [
    {
     "name": "stdout",
     "output_type": "stream",
     "text": [
      "I am a shape.\n",
      "I am a shape.\n"
     ]
    }
   ],
   "source": [
    "#Alternate answer\n",
    "class Shape(): \n",
    "    def what_am_i(self): \n",
    "        print(\"I am a shape.\") \n",
    "\n",
    "class Rectangle(Shape): \n",
    "    def __init__(self, width, length):\n",
    "        self.width = width \n",
    "        self.length = length \n",
    "\n",
    "    def calculate_perimeter(self): \n",
    "        return self.width * 2 + self.length * 2 \n",
    "\n",
    "class Square(Shape): \n",
    "    def __init__(self, s1):\n",
    "        self.s1 = s1 \n",
    "\n",
    "    def calculate_perimeter(self):\n",
    "        return self.s1 * 4 \n",
    "\n",
    "a_rectangle = Rectangle(20, 50)\n",
    "a_square = Square(29)\n",
    "a_rectangle.what_am_i()\n",
    "a_square.what_am_i()"
   ]
  },
  {
   "cell_type": "code",
   "execution_count": null,
   "metadata": {},
   "outputs": [],
   "source": []
  }
 ],
 "metadata": {
  "kernelspec": {
   "display_name": "Python 3",
   "language": "python",
   "name": "python3"
  },
  "language_info": {
   "codemirror_mode": {
    "name": "ipython",
    "version": 3
   },
   "file_extension": ".py",
   "mimetype": "text/x-python",
   "name": "python",
   "nbconvert_exporter": "python",
   "pygments_lexer": "ipython3",
   "version": "3.7.3"
  }
 },
 "nbformat": 4,
 "nbformat_minor": 2
}
