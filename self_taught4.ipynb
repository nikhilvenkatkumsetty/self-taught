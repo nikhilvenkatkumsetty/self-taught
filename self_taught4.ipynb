{
 "cells": [
  {
   "cell_type": "code",
   "execution_count": 1,
   "metadata": {},
   "outputs": [
    {
     "name": "stdout",
     "output_type": "stream",
     "text": [
      "Enter the word: aba\n",
      "True\n"
     ]
    }
   ],
   "source": [
    "#palindrome\n",
    "def is_palindrome(word):\n",
    "    word=word.lower()\n",
    "    return word[::-1] == word\n",
    "x=input(\"Enter the word: \")\n",
    "result = is_palindrome(x)\n",
    "print(result)"
   ]
  },
  {
   "cell_type": "code",
   "execution_count": 2,
   "metadata": {},
   "outputs": [
    {
     "name": "stdout",
     "output_type": "stream",
     "text": [
      "Enter word 1: ice\n",
      "Enter word 2: cei\n",
      "True\n"
     ]
    }
   ],
   "source": [
    "#Anagram:rearranging the letters of a word\n",
    "def is_anagram(w1,w2):\n",
    "    w1=w1.lower()\n",
    "    w2=w2.lower()\n",
    "    return sorted(w1)==sorted(w2)\n",
    "w1=input(\"Enter word 1: \")\n",
    "w2=input(\"Enter word 2: \")\n",
    "print(is_anagram(w1,w2))"
   ]
  },
  {
   "cell_type": "code",
   "execution_count": 12,
   "metadata": {},
   "outputs": [
    {
     "name": "stdout",
     "output_type": "stream",
     "text": [
      "Enter the string: dfvsdvvvve\n",
      "{'d': 2, 'f': 1, 'v': 5, 's': 1, 'e': 1}\n"
     ]
    }
   ],
   "source": [
    "#count no.of times a character appears\n",
    "def count_char(string):\n",
    "    count_dict= {}\n",
    "    for c in string:\n",
    "        if c in count_dict:\n",
    "            count_dict[c]+=1\n",
    "        else:\n",
    "            count_dict[c]=1\n",
    "    print(count_dict)\n",
    "s = input(\"Enter the string: \")\n",
    "count_char(s)"
   ]
  },
  {
   "cell_type": "code",
   "execution_count": 8,
   "metadata": {},
   "outputs": [
    {
     "name": "stdout",
     "output_type": "stream",
     "text": [
      "[('Intersetellar', 1), ('Inception', 10), ('The Prestige', 10), ('The Dark Knight', 8), ('Batman Begins', 6)]\n"
     ]
    }
   ],
   "source": [
    "#using zip to combine two lists\n",
    "movies=[\"Intersetellar\",\"Inception\",\"The Prestige\",\"The Dark Knight\",\"Batman Begins\"]\n",
    "ratings=[1,10,10,8,6]\n",
    "new_list = []\n",
    "for tree in zip(movies,ratings):\n",
    "    new_list.append(tree)\n",
    "print(new_list)"
   ]
  },
  {
   "cell_type": "code",
   "execution_count": 11,
   "metadata": {
    "scrolled": true
   },
   "outputs": [
    {
     "name": "stdout",
     "output_type": "stream",
     "text": [
      "Enter the bottles: 10\n",
      "10 bottles of beer on the wall.10 bottles of beer. take one down pass it around, 10 bottles of beer on the wall.\n",
      "9 bottles of beer on the wall.9 bottles of beer. take one down pass it around, 9 bottles of beer on the wall.\n",
      "8 bottles of beer on the wall.8 bottles of beer. take one down pass it around, 8 bottles of beer on the wall.\n",
      "7 bottles of beer on the wall.7 bottles of beer. take one down pass it around, 7 bottles of beer on the wall.\n",
      "6 bottles of beer on the wall.6 bottles of beer. take one down pass it around, 6 bottles of beer on the wall.\n",
      "5 bottles of beer on the wall.5 bottles of beer. take one down pass it around, 5 bottles of beer on the wall.\n",
      "4 bottles of beer on the wall.4 bottles of beer. take one down pass it around, 4 bottles of beer on the wall.\n",
      "3 bottles of beer on the wall.3 bottles of beer. take one down pass it around, 3 bottles of beer on the wall.\n",
      "2 bottles of beer on the wall.2 bottles of beer. take one down pass it around, 2 bottles of beer on the wall.\n",
      "1 bottles of beer on the wall.1 bottles of beer. take one down pass it around, 1 bottles of beer on the wall.\n",
      "No more bottles of beer on the wall\n"
     ]
    }
   ],
   "source": [
    "#recursion is a process of dividing a problem into smaller and smaller parts until the problem is represented in the simplest cases\n",
    "#teh three laws of recursion are:\n",
    "#1.A recursive algorithm must have a base case.\n",
    "#2.A recursive algorithm must call itself, recursively.\n",
    "#3.A recursive algorithm must change its state and move toward the base case.\n",
    "def bottles_of_beer(bob):\n",
    "    if bob<1:\n",
    "        print(\"\"\"No more bottles of beer on the wall\"\"\")\n",
    "        return\n",
    "    tmp=bob\n",
    "    bob-=1\n",
    "    print(\"\"\"{} bottles of beer on the wall.{} bottles of beer. take one down pass it around, {} bottles of beer on the wall.\"\"\".format(tmp,tmp,tmp))\n",
    "    bottles_of_beer(bob)\n",
    "x=int(input(\"Enter the bottles: \"))\n",
    "bottles_of_beer(x)"
   ]
  },
  {
   "cell_type": "code",
   "execution_count": 10,
   "metadata": {},
   "outputs": [
    {
     "name": "stdout",
     "output_type": "stream",
     "text": [
      "5\n",
      "4\n",
      "3\n",
      "2\n",
      "1\n",
      "0\n"
     ]
    }
   ],
   "source": [
    "def print_zero(n):\n",
    "    if n<0:\n",
    "        return\n",
    "    print(n)\n",
    "    print_zero(n-1)\n",
    "print_zero(5)"
   ]
  },
  {
   "cell_type": "code",
   "execution_count": 13,
   "metadata": {},
   "outputs": [
    {
     "name": "stdout",
     "output_type": "stream",
     "text": [
      "The item is in the list.\n"
     ]
    }
   ],
   "source": [
    "#Binary search = O(logn) time\n",
    "#It is a series of iterations that divide a sorted\n",
    "#list in half to drill to a specific element\n",
    "def binarysearch(list1,item):\n",
    "    first=0\n",
    "    last=len(list1)-1\n",
    "    found = False\n",
    "    while first<=last and not found:\n",
    "        mid=(first+last)//2#floor division\n",
    "        if list1[mid]==item:\n",
    "            found = True\n",
    "        else:\n",
    "            if item<list1[mid]:\n",
    "                last=mid-1\n",
    "            else:\n",
    "                first=mid+1\n",
    "    return found\n",
    "list1=[10,11,12,13,14,15,16,17,18,19,20]\n",
    "item=17\n",
    "if binarysearch(list1,item):\n",
    "    print(\"The item is in the list.\")\n",
    "else:\n",
    "    print(\"The item is not in the list.\")\n",
    "            "
   ]
  },
  {
   "cell_type": "code",
   "execution_count": 14,
   "metadata": {},
   "outputs": [
    {
     "name": "stdout",
     "output_type": "stream",
     "text": [
      "['Nikhil', 'Sai']\n"
     ]
    }
   ],
   "source": [
    "def return_duplicates(list1):\n",
    "    dups=[]\n",
    "    set1=set()\n",
    "    for item in list1:\n",
    "        length1=len(set1)\n",
    "        set1.add(item)\n",
    "        length2=len(set1)\n",
    "        if length1==length2:\n",
    "            dups.append(item)\n",
    "    return dups\n",
    "list1=['Susan','Kawne','Nikhil','venkat','Sai','Koushik','Nikhil','Sai']\n",
    "dups = return_duplicates(list1)\n",
    "print(dups)"
   ]
  },
  {
   "cell_type": "code",
   "execution_count": null,
   "metadata": {},
   "outputs": [],
   "source": [
    "#list comprehension syntax:\n",
    "new_list= [expression(i) for i in input_list if filter(i)]"
   ]
  },
  {
   "cell_type": "code",
   "execution_count": 16,
   "metadata": {},
   "outputs": [
    {
     "name": "stdout",
     "output_type": "stream",
     "text": [
      "2\n"
     ]
    }
   ],
   "source": [
    "#applying list comprehension\n",
    "#Print the right-most digit from a string \n",
    "input_string=\"Buy 1 get 2 free\"\n",
    "list1 = [c for c in input_string if c.isdigit()][-1]\n",
    "print(list1)"
   ]
  },
  {
   "cell_type": "code",
   "execution_count": 17,
   "metadata": {},
   "outputs": [
    {
     "name": "stdout",
     "output_type": "stream",
     "text": [
      "[7, 49, 35, 21, 14]\n"
     ]
    }
   ],
   "source": [
    "numbers = [1, 7, 5, 3, 2]\n",
    "print([i* 7 for i in numbers])"
   ]
  },
  {
   "cell_type": "code",
   "execution_count": 20,
   "metadata": {},
   "outputs": [
    {
     "name": "stdout",
     "output_type": "stream",
     "text": [
      "[2, 62, 28]\n"
     ]
    }
   ],
   "source": [
    "#find the intersection of two lists\n",
    "def intersection(list1,list2):\n",
    "    list3= [value for value in list1 if value in list2]\n",
    "    return list3\n",
    "list1 = [2,43,48,62,64,28,3]\n",
    "list2 = [1,28,42,70,2,10,62,31,4,14]\n",
    "print(intersection(list1,list2))"
   ]
  },
  {
   "cell_type": "code",
   "execution_count": 21,
   "metadata": {},
   "outputs": [
    {
     "name": "stdout",
     "output_type": "stream",
     "text": [
      "[2, 28, 62]\n"
     ]
    }
   ],
   "source": [
    "#using build-in python function called intersection()\n",
    "#but this only works for set()\n",
    "def intersection(list1,list2):\n",
    "    set1=set(list1)\n",
    "    set2=set(list2)\n",
    "    return list(set1.intersection(set2))\n",
    "list1 = [2,43,48,62,64,28,3]\n",
    "list2 = [1,28,42,70,2,10,62,31,4,14]\n",
    "list3=intersection(list1,list2)\n",
    "print(list3)\n"
   ]
  },
  {
   "cell_type": "code",
   "execution_count": 36,
   "metadata": {},
   "outputs": [
    {
     "name": "stdout",
     "output_type": "stream",
     "text": [
      "Element occuring once is:  3\n"
     ]
    }
   ],
   "source": [
    "#Given a non-empty list of integers, \n",
    "#every element appears twice except for one. \n",
    "#Find that single one.\n",
    "# function to find the once \n",
    "# appearing element in array \n",
    "def find( ar, n): \n",
    "    res = ar[0] \n",
    "    \n",
    "    # Do XOR of all elements and return \n",
    "    for i in range(1,n): \n",
    "        res = res ^ ar[i] \n",
    "    \n",
    "    return res \n",
    "\n",
    "\n",
    "ar = [4, 3, 1, 4, 1, 0, 0] \n",
    "print (\"Element occuring once is: \", find(ar, len(ar)) )\n"
   ]
  },
  {
   "cell_type": "code",
   "execution_count": 35,
   "metadata": {},
   "outputs": [
    {
     "name": "stdout",
     "output_type": "stream",
     "text": [
      "4\n"
     ]
    }
   ],
   "source": [
    "#Alternate solution\n",
    "numbers = [1, 1, 2, 2, 3, 3, 4, 5, 5]\n",
    "count = {}\n",
    "for i in numbers:\n",
    "    if i not in count:\n",
    "        count[i] = 1\n",
    "    else:\n",
    "        count[i] += 1\n",
    "\n",
    "for key, value in count.items():\n",
    "    if value == 1:\n",
    "        print(key)"
   ]
  },
  {
   "cell_type": "code",
   "execution_count": 64,
   "metadata": {},
   "outputs": [
    {
     "name": "stdout",
     "output_type": "stream",
     "text": [
      "yadretsey\n"
     ]
    }
   ],
   "source": [
    "#DATA STRUCTURES\n",
    "#implementing a stack in python to reverse a string\n",
    "class Stack:\n",
    "    def __init__(self):\n",
    "        self.items = []\n",
    "\n",
    "    def is_empty(self):\n",
    "        return self.items == []\n",
    "\n",
    "    def push(self, item):\n",
    "        self.items.append(item)\n",
    "\n",
    "    def pop(self):\n",
    "        return self.items.pop()\n",
    "\n",
    "    def peek(self):\n",
    "        return self.items[len(self.items)-1]\n",
    "\n",
    "    def size(self):\n",
    "        return len(self.items)\n",
    "\n",
    "stack = Stack()\n",
    "for c in \"yesterday\":\n",
    "    stack.push(c)\n",
    "\n",
    "\n",
    "reversed_string = \"\"\n",
    "\n",
    "\n",
    "for i in range(len(stack.items)):\n",
    "    reversed_string += stack.pop()\n",
    "\n",
    "\n",
    "print(reversed_string)"
   ]
  },
  {
   "cell_type": "code",
   "execution_count": 65,
   "metadata": {},
   "outputs": [
    {
     "name": "stdout",
     "output_type": "stream",
     "text": [
      "[5, 4, 3, 2, 1]\n"
     ]
    }
   ],
   "source": [
    "class Stack:\n",
    "    def __init__(self):\n",
    "        self.items = []\n",
    "\n",
    "    def is_empty(self):\n",
    "        return self.items == []\n",
    "\n",
    "    def push(self, item):\n",
    "        self.items.append(item)\n",
    "\n",
    "    def pop(self):\n",
    "        return self.items.pop()\n",
    "\n",
    "    def peek(self):\n",
    "        return self.items[len(self.items)-1]\n",
    "\n",
    "    def size(self):\n",
    "        return len(self.items)\n",
    "\n",
    "list1 = [1, 2, 3, 4, 5]\n",
    "list2 = []\n",
    "\n",
    "stack = Stack()\n",
    "for item in list1:\n",
    "    stack.push(item)\n",
    "\n",
    "\n",
    "for i in range(len(stack.items)):\n",
    "    list2.append(stack.pop())\n",
    "\n",
    "print(list2)"
   ]
  },
  {
   "cell_type": "code",
   "execution_count": 66,
   "metadata": {},
   "outputs": [],
   "source": [
    "#Queue data structure implementation\n",
    "import time\n",
    "import random\n",
    "\n",
    "\n",
    "class Queue:\n",
    "    def __init__(self):\n",
    "        self.items = []\n",
    "\n",
    "    def is_empty(self):\n",
    "        return self.items == []\n",
    "\n",
    "    def enqueue(self, item):\n",
    "        self.items.insert(0, item)\n",
    "\n",
    "    def dequeue(self):\n",
    "        return self.items.pop()\n",
    "\n",
    "    def size(self):\n",
    "        return len(self.items)\n",
    "\n",
    "    def simulate_line(self, till_show, max_time):\n",
    "        pq = Queue()\n",
    "        tix_sold = []\n",
    "\n",
    "        for i in range(100):\n",
    "            pq.enqueue(\"person\" + str(i))\n",
    "\n",
    "        t_end = time.time() + till_show\n",
    "        now = time.time()\n",
    "        while now < t_end and not pq.is_empty():\n",
    "            now = time.time()\n",
    "            r = random.randint(0, max_time)\n",
    "            time.sleep(r)\n",
    "            person = pq.dequeue()\n",
    "            print(person)\n",
    "            tix_sold.append(person)\n",
    "\n",
    "        return tix_sold"
   ]
  },
  {
   "cell_type": "code",
   "execution_count": null,
   "metadata": {},
   "outputs": [],
   "source": [
    "#hash tables\n"
   ]
  }
 ],
 "metadata": {
  "kernelspec": {
   "display_name": "Python 3",
   "language": "python",
   "name": "python3"
  }
 },
 "nbformat": 4,
 "nbformat_minor": 2
}
